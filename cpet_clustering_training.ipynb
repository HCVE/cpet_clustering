{
 "cells": [
  {
   "cell_type": "markdown",
   "source": [
    "# Import necessary libraries"
   ],
   "metadata": {
    "collapsed": false
   }
  },
  {
   "cell_type": "code",
   "execution_count": null,
   "outputs": [],
   "source": [
    "import os\n",
    "import numpy as np\n",
    "import pandas as pd\n",
    "import matplotlib.pyplot as plt\n",
    "\n",
    "from tqdm import tqdm\n",
    "from pathlib import Path\n",
    "from _utils.load_data import fetch_data\n",
    "from _clusterers.dtw_kmedoids import DTWCluster\n",
    "from tslearn.utils import to_time_series_dataset\n",
    "from _utils.utils import visualize_clustering_results, write2excel"
   ],
   "metadata": {
    "collapsed": false,
    "pycharm": {
     "name": "#%% Step 1: import necessary libraries\n"
    }
   }
  },
  {
   "cell_type": "markdown",
   "source": [
    "# Helper functions"
   ],
   "metadata": {
    "collapsed": false
   }
  },
  {
   "cell_type": "code",
   "execution_count": null,
   "outputs": [],
   "source": [
    "def min_max_scaling(cvi):\n",
    "    cvi = np.array(cvi) + 1e-05\n",
    "    return (cvi - np.min(cvi)) / (np.max(cvi) - np.min(cvi))\n",
    "\n",
    "\n",
    "def cluster_evaluation(training_data, path, max_clusters=10):\n",
    "    sh_index = []\n",
    "    dunn_index = []\n",
    "    inertia_index = []\n",
    "    fig1, ax1 = plt.subplots()\n",
    "    fig2, ax2 = plt.subplots()\n",
    "\n",
    "    for cl in tqdm(range(2, max_clusters + 1), total=max_clusters-1):\n",
    "        res, _ = DTWCluster(cl, normalize=False).return_cvi(X=training_data)\n",
    "        sh_index.append(res[\"silhouette\"])\n",
    "        dunn_index.append(res[\"dunn\"])\n",
    "        inertia_index.append(res[\"inertia\"])\n",
    "\n",
    "    sh_index = min_max_scaling(sh_index)\n",
    "    dunn_index = min_max_scaling(dunn_index)\n",
    "    ccvi = (sh_index + dunn_index)/2\n",
    "    pcvi = np.sqrt(sh_index * dunn_index)\n",
    "\n",
    "    ax1.plot(list(range(2, max_clusters + 1)), sh_index, \"--b^\", label=\"silhouette index\")\n",
    "    ax1.plot(list(range(2, max_clusters + 1)), dunn_index, \"--g*\", label=\"dunn index\")\n",
    "    ax1.plot(list(range(2, max_clusters + 1)), ccvi, \"--r*\", label=\"Average CVI\")\n",
    "    ax1.set_xlabel(\"Number of clusters\")\n",
    "    ax1.set_ylabel(\"Average value of individual CVIs\")\n",
    "    ax1.legend()\n",
    "    fig1.savefig(os.path.join(path, \"ccvi.png\"))\n",
    "    fig1.savefig(os.path.join(path, \"ccvi.svg\"))\n",
    "    plt.close(fig1)\n",
    "\n",
    "    ax2.plot(list(range(2, max_clusters + 1)), sh_index, \"--b^\", label=\"silhouette index\")\n",
    "    ax2.plot(list(range(2, max_clusters + 1)), dunn_index, \"--g*\", label=\"dunn index\")\n",
    "    ax2.plot(list(range(2, max_clusters + 1)), pcvi, \"--r*\", label=\"Average CVI\")\n",
    "    ax2.set_xlabel(\"Number of clusters\")\n",
    "    ax2.set_ylabel(\"Square root of the individual CVIs product.\")\n",
    "    ax2.legend()\n",
    "    fig2.savefig(os.path.join(path, \"pcvi.png\"))\n",
    "    fig2.savefig(os.path.join(path, \"pcvi.svg\"))\n",
    "    plt.close(fig2)"
   ],
   "metadata": {
    "collapsed": false
   }
  },
  {
   "cell_type": "markdown",
   "source": [
    "# Load the data"
   ],
   "metadata": {
    "collapsed": false
   }
  },
  {
   "cell_type": "code",
   "execution_count": null,
   "outputs": [],
   "source": [
    "parent_folder = Path(os.getcwd()).parent.absolute()\n",
    "data_path = os.path.join(parent_folder, \"Data/iCOMPEER\")\n",
    "sex_file = os.path.join(parent_folder, \"Data/s64901_06JUN2023_all.xlsx\")\n",
    "save_data_path = os.path.join(parent_folder, \"Results/dtw_kmedoids\")\n",
    "\n",
    "if not os.path.exists(save_data_path):\n",
    "    os.makedirs(save_data_path)\n",
    "\n",
    "male_cpet, female_cpet = fetch_data(data_path, sex_file)"
   ],
   "metadata": {
    "collapsed": false
   }
  },
  {
   "cell_type": "markdown",
   "source": [
    "# Pre-select data with clinical data"
   ],
   "metadata": {
    "collapsed": false
   }
  },
  {
   "cell_type": "code",
   "execution_count": null,
   "outputs": [],
   "source": [
    "data = pd.read_excel(os.path.join(parent_folder, \"Data/s64901_06JUN2023_all.xlsx\"))\n",
    "pids = data[\"record_id\"].astype(str).tolist()\n",
    "\n",
    "male_cpet = male_cpet[male_cpet[\"Patient IDs\"].isin(pids)]\n",
    "female_cpet = female_cpet[female_cpet[\"Patient IDs\"].isin(pids)]"
   ],
   "metadata": {
    "collapsed": false
   }
  },
  {
   "cell_type": "markdown",
   "source": [
    "# Variable and sex selection"
   ],
   "metadata": {
    "collapsed": false
   }
  },
  {
   "cell_type": "code",
   "execution_count": null,
   "outputs": [],
   "source": [
    "variables = [\"HR\", \"V'O2\", \"RER\", \"PETO2\", \"PETCO2\"]\n",
    "sex=\"males\"\n",
    "cpet = {\"males\": male_cpet, \"females\": female_cpet}\n",
    "\n",
    "data = []\n",
    "patient_ids =[]\n",
    "for i in tqdm(range(len(cpet[sex]))):\n",
    "    data.append(cpet[sex][\"CPET Data\"].iloc[i][variables].to_numpy())\n",
    "    patient_ids.append(cpet[sex][\"Patient IDs\"].iloc[i])\n",
    "\n",
    "formatted_dataset = to_time_series_dataset(data)"
   ],
   "metadata": {
    "collapsed": false
   }
  },
  {
   "cell_type": "markdown",
   "source": [
    "# Find optimal number of clusters"
   ],
   "metadata": {
    "collapsed": false
   }
  },
  {
   "cell_type": "code",
   "execution_count": null,
   "outputs": [],
   "source": [
    "cluster_evaluation(training_data=formatted_dataset, max_clusters=10, path=save_data_path)"
   ],
   "metadata": {
    "collapsed": false
   }
  },
  {
   "cell_type": "markdown",
   "source": [
    "# Perform clustering"
   ],
   "metadata": {
    "collapsed": false
   }
  },
  {
   "cell_type": "code",
   "execution_count": null,
   "outputs": [],
   "source": [
    "from collections import Counter\n",
    "\n",
    "model = DTWCluster(n_clusters=4, normalize=False).fit(X=formatted_dataset)\n",
    "model.save(path=save_data_path)\n",
    "clusters = model.labels_\n",
    "\n",
    "print(Counter(clusters))"
   ],
   "metadata": {
    "collapsed": false
   }
  },
  {
   "cell_type": "markdown",
   "source": [
    "# Visualize clustering results"
   ],
   "metadata": {
    "collapsed": false
   }
  },
  {
   "cell_type": "code",
   "execution_count": null,
   "outputs": [],
   "source": [
    "# the desired combinations of variables to visualise the clustering results\n",
    "combinations = [(\"V'O2\", \"HR\"), (\"V'O2\", \"V'E\"), (\"V'O2\", \"V'CO2\"),\n",
    "                (\"V'CO2\", \"V'E\"), (\"Time\", \"Load\"), (\"Time\", \"V'E\"),\n",
    "                (\"Time\", \"PETO2\"), (\"Time\", \"PETCO2\"), (\"Time\", \"RER\")]\n",
    "\n",
    "# cluster renaming to force cluster 1 to be the one with the most favourable profile\n",
    "cluster_labels = {0: 3, 1: 1, 2: 2, 3: 4}\n",
    "\n",
    "# colours used for the clusters. '0' corresponds to cluster 1 and is illustrated with green colour.\n",
    "cluster_colours = {0: \"green\", 1: \"blue\", 2: \"darkorange\", 3: \"red\", 4: \"red\"}\n",
    "\n",
    "# write the cluster annotations in an .xlsx file\n",
    "write2excel(clusters, list(cpet[sex][\"Patient IDs\"]), sex, save_data_path, cluster_labels=cluster_labels)\n",
    "renamed_clusters = pd.read_excel(os.path.join(save_data_path, f'Clustering_assignments_{sex}.xlsx'))[\"Cluster\"]\n",
    "\n",
    "# visualise the clustering results\n",
    "visualize_clustering_results(cpet[sex], renamed_clusters, combinations, sex, str(save_data_path), cluster_colours=cluster_colours)"
   ],
   "metadata": {
    "collapsed": false
   }
  }
 ],
 "metadata": {
  "kernelspec": {
   "display_name": "Python 3",
   "language": "python",
   "name": "python3"
  },
  "language_info": {
   "codemirror_mode": {
    "name": "ipython",
    "version": 2
   },
   "file_extension": ".py",
   "mimetype": "text/x-python",
   "name": "python",
   "nbconvert_exporter": "python",
   "pygments_lexer": "ipython2",
   "version": "2.7.6"
  }
 },
 "nbformat": 4,
 "nbformat_minor": 0
}
