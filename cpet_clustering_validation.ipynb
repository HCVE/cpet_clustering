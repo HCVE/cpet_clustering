{
 "cells": [
  {
   "cell_type": "markdown",
   "source": [
    "# Import necessary libraries"
   ],
   "metadata": {
    "collapsed": false
   }
  },
  {
   "cell_type": "code",
   "execution_count": null,
   "outputs": [],
   "source": [
    "import os\n",
    "import pickle\n",
    "import pandas as pd\n",
    "\n",
    "from tqdm import tqdm\n",
    "from pathlib import Path\n",
    "from _utils.load_data import fetch_data\n",
    "from tslearn.utils import to_time_series_dataset\n",
    "from _utils.utils import visualize_clustering_results, write2excel"
   ],
   "metadata": {
    "collapsed": false,
    "pycharm": {
     "is_executing": true
    }
   }
  },
  {
   "cell_type": "markdown",
   "source": [
    "# Load the data of the external validation cohort"
   ],
   "metadata": {
    "collapsed": false
   }
  },
  {
   "cell_type": "code",
   "execution_count": null,
   "outputs": [],
   "source": [
    "parent_folder = Path(os.getcwd()).parent.absolute()\n",
    "data_path = os.path.join(parent_folder, \"Data/FLEMENGHO\")\n",
    "sex_file = os.path.join(parent_folder, \"Data/flemengho_clinical_data.xlsx\")\n",
    "save_data_path = os.path.join(parent_folder, \"Results/dtw_kmedoids_FLEMENGHO\")\n",
    "\n",
    "if not os.path.exists(save_data_path):\n",
    "    os.makedirs(save_data_path)\n",
    "\n",
    "male_cpet, female_cpet = fetch_data(data_path, sex_file)"
   ],
   "metadata": {
    "collapsed": false
   }
  },
  {
   "cell_type": "markdown",
   "source": [
    "# Variable and sex selection"
   ],
   "metadata": {
    "collapsed": false
   }
  },
  {
   "cell_type": "code",
   "execution_count": null,
   "outputs": [],
   "source": [
    "variables = [\"HR\", \"V'O2\", \"RER\", \"PETO2\", \"PETCO2\"]\n",
    "sex=\"males\"\n",
    "cpet = {\"males\": male_cpet, \"females\": female_cpet}\n",
    "\n",
    "data = []\n",
    "patient_ids =[]\n",
    "for i in tqdm(range(len(cpet[sex]))):\n",
    "    data.append(cpet[sex][\"CPET Data\"].iloc[i][variables].to_numpy())\n",
    "    patient_ids.append(cpet[sex][\"Patient IDs\"].iloc[i])\n",
    "\n",
    "formatted_dataset = to_time_series_dataset(data)"
   ],
   "metadata": {
    "collapsed": false
   }
  },
  {
   "cell_type": "markdown",
   "source": [
    "# Load the trained model"
   ],
   "metadata": {
    "collapsed": false
   }
  },
  {
   "cell_type": "code",
   "execution_count": null,
   "outputs": [],
   "source": [
    "model = pickle.load(open(os.path.join(parent_folder, fr\"Results\\dtw_kmedoids\\{sex}\\5 clusters\\model.pkl\", \"rb\")))\n",
    "clusters = model.predict(formatted_dataset)"
   ],
   "metadata": {
    "collapsed": false
   }
  },
  {
   "cell_type": "markdown",
   "source": [
    "# Visualise clustering results"
   ],
   "metadata": {
    "collapsed": false
   }
  },
  {
   "cell_type": "code",
   "execution_count": null,
   "outputs": [],
   "source": [
    "# the desired combinations of variables to visualise the clustering results\n",
    "combinations = [(\"V'O2\", \"HR\"), (\"V'O2\", \"V'E\"), (\"V'O2\", \"V'CO2\"),\n",
    "                (\"V'CO2\", \"V'E\"), (\"Time\", \"Load\"), (\"Time\", \"V'E\"),\n",
    "                (\"Time\", \"PETO2\"), (\"Time\", \"PETCO2\"), (\"Time\", \"RER\")]\n",
    "\n",
    "# cluster renaming to force cluster 1 to be the one with the most favourable profile\n",
    "cluster_labels = {0: 4, 1: 2, 2: 3, 3: 1, 4: 5}\n",
    "\n",
    "# colours used for the clusters. '0' corresponds to cluster 1 and is illustrated with green colour.\n",
    "cluster_colours = {0: \"green\", 1: \"blue\", 2: \"darkorange\", 3: \"blueviolet\", 4: \"red\"}\n",
    "\n",
    "# write the cluster annotations in an .xlsx file\n",
    "write2excel(clusters, list(cpet[sex][\"Patient IDs\"]), sex, save_data_path, cluster_labels=cluster_labels)\n",
    "renamed_clusters = pd.read_excel(os.path.join(save_data_path, f'Clustering_assignments_{sex}.xlsx'))[\"Cluster\"]\n",
    "\n",
    "visualize_clustering_results(cpet[sex], renamed_clusters, combinations, sex, str(save_data_path), cluster_colours=cluster_colours)"
   ],
   "metadata": {
    "collapsed": false
   }
  }
 ],
 "metadata": {
  "kernelspec": {
   "display_name": "Python 3",
   "language": "python",
   "name": "python3"
  },
  "language_info": {
   "codemirror_mode": {
    "name": "ipython",
    "version": 2
   },
   "file_extension": ".py",
   "mimetype": "text/x-python",
   "name": "python",
   "nbconvert_exporter": "python",
   "pygments_lexer": "ipython2",
   "version": "2.7.6"
  }
 },
 "nbformat": 4,
 "nbformat_minor": 0
}
